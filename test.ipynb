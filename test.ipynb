{
 "cells": [
  {
   "cell_type": "code",
   "execution_count": 1,
   "metadata": {},
   "outputs": [],
   "source": [
    "import torch"
   ]
  },
  {
   "cell_type": "code",
   "execution_count": 2,
   "metadata": {},
   "outputs": [
    {
     "name": "stdout",
     "output_type": "stream",
     "text": [
      "tensor:\n",
      "tensor([[0., 0., 0., 0., 0., 0.],\n",
      "        [0., 0., 0., 0., 0., 0.],\n",
      "        [0., 0., 0., 0., 0., 0.],\n",
      "        [0., 0., 0., 0., 0., 0.],\n",
      "        [0., 0., 0., 0., 0., 0.],\n",
      "        [0., 0., 0., 0., 0., 0.]])\n",
      "other_tensor:\n",
      "tensor([[0.4963, 0.7682],\n",
      "        [0.0885, 0.1320],\n",
      "        [0.3074, 0.6341],\n",
      "        [0.4901, 0.8964],\n",
      "        [0.4556, 0.6323],\n",
      "        [0.3489, 0.4017]])\n",
      "masks: tensor([0, 2])\n",
      "full_other_tensor:\n",
      "tensor([[0.4963, 0.0000, 0.7682, 0.0000, 0.0000, 0.0000],\n",
      "        [0.0885, 0.0000, 0.1320, 0.0000, 0.0000, 0.0000],\n",
      "        [0.3074, 0.0000, 0.6341, 0.0000, 0.0000, 0.0000],\n",
      "        [0.4901, 0.0000, 0.8964, 0.0000, 0.0000, 0.0000],\n",
      "        [0.4556, 0.0000, 0.6323, 0.0000, 0.0000, 0.0000],\n",
      "        [0.3489, 0.0000, 0.4017, 0.0000, 0.0000, 0.0000]])\n",
      "tensor after first add:\n",
      "tensor([[0.0496, 0.0000, 0.0768, 0.0000, 0.0000, 0.0000],\n",
      "        [0.0088, 0.0000, 0.0132, 0.0000, 0.0000, 0.0000],\n",
      "        [0.0307, 0.0000, 0.0634, 0.0000, 0.0000, 0.0000],\n",
      "        [0.0490, 0.0000, 0.0896, 0.0000, 0.0000, 0.0000],\n",
      "        [0.0456, 0.0000, 0.0632, 0.0000, 0.0000, 0.0000],\n",
      "        [0.0349, 0.0000, 0.0402, 0.0000, 0.0000, 0.0000]])\n",
      "tensor after copy:\n",
      "tensor([[0.0496, 0.0088, 0.0768, 0.0490, 0.0456, 0.0349],\n",
      "        [0.0088, 0.0000, 0.0132, 0.0000, 0.0000, 0.0000],\n",
      "        [0.0307, 0.0132, 0.0634, 0.0896, 0.0632, 0.0402],\n",
      "        [0.0490, 0.0000, 0.0896, 0.0000, 0.0000, 0.0000],\n",
      "        [0.0456, 0.0000, 0.0632, 0.0000, 0.0000, 0.0000],\n",
      "        [0.0349, 0.0000, 0.0402, 0.0000, 0.0000, 0.0000]])\n",
      "tensor after add diag:\n",
      "tensor([[0.0993, 0.0088, 0.1076, 0.0490, 0.0456, 0.0349],\n",
      "        [0.0088, 0.0000, 0.0132, 0.0000, 0.0000, 0.0000],\n",
      "        [0.1076, 0.0132, 0.1268, 0.0896, 0.0632, 0.0402],\n",
      "        [0.0490, 0.0000, 0.0896, 0.0000, 0.0000, 0.0000],\n",
      "        [0.0456, 0.0000, 0.0632, 0.0000, 0.0000, 0.0000],\n",
      "        [0.0349, 0.0000, 0.0402, 0.0000, 0.0000, 0.0000]])\n",
      "expected result:\n",
      "tensor([[0.0993, 0.0088, 0.1076, 0.0490, 0.0456, 0.0349],\n",
      "        [0.0088, 0.0000, 0.0132, 0.0000, 0.0000, 0.0000],\n",
      "        [0.1076, 0.0132, 0.1268, 0.0896, 0.0632, 0.0402],\n",
      "        [0.0490, 0.0000, 0.0896, 0.0000, 0.0000, 0.0000],\n",
      "        [0.0456, 0.0000, 0.0632, 0.0000, 0.0000, 0.0000],\n",
      "        [0.0349, 0.0000, 0.0402, 0.0000, 0.0000, 0.0000]])\n"
     ]
    }
   ],
   "source": [
    "torch.manual_seed(0)\n",
    "\n",
    "tensor = torch.zeros(6,6)\n",
    "print(f\"tensor:\\n{tensor}\")\n",
    "\n",
    "other_tensor = torch.rand(6,2)\n",
    "print(f\"other_tensor:\\n{other_tensor}\")\n",
    "\n",
    "masks = torch.tensor([0,2])\n",
    "print(f\"masks: {masks}\")\n",
    "\n",
    "alpha = 0.1\n",
    "\n",
    "full_other_tensor = torch.zeros(6,6)\n",
    "for i,j in enumerate(masks):\n",
    "\tfull_other_tensor[:,j] = other_tensor[:,i]\n",
    "print(f\"full_other_tensor:\\n{full_other_tensor}\")\n",
    "expected_result = tensor + alpha * (full_other_tensor + full_other_tensor.T)\n",
    "\n",
    "tensor.index_add_(1, masks, other_tensor, alpha=alpha)\n",
    "print(f\"tensor after first add:\\n{tensor}\")\n",
    "\n",
    "\n",
    "# Add tensor[not_masks, masks] in place to tensor at [masks, not_masks], \n",
    "# to make it symmetric by modifying just the necessary\n",
    "all_indices = torch.arange(tensor.shape[0])\n",
    "not_masks_bool = torch.ones(tensor.shape[0], dtype=torch.bool)\n",
    "not_masks_bool[masks] = 0\n",
    "not_masks = all_indices[not_masks_bool]\n",
    "\n",
    "tensor[masks[:,None], not_masks] = tensor[not_masks, masks[:, None]]\n",
    "# tensor[masks[:,None], not_masks] = tensor[not_masks[:,None], masks].T\n",
    "print(f\"tensor after copy:\\n{tensor}\")\n",
    "\n",
    "tensor[masks[:,None], masks] += alpha * other_tensor[masks,:].T\n",
    "print(f\"tensor after add diag:\\n{tensor}\")\n",
    "\n",
    "print(f\"expected result:\\n{expected_result}\")\n",
    "assert torch.allclose(tensor, expected_result)\n",
    "\n"
   ]
  },
  {
   "cell_type": "code",
   "execution_count": 4,
   "metadata": {},
   "outputs": [],
   "source": [
    "diag_bloc = tensor[masks[:,None],masks]\n",
    "tensor[masks[:,None],masks] = (diag_bloc + diag_bloc)/2\n",
    "assert torch.allclose(tensor, expected_result)"
   ]
  },
  {
   "cell_type": "code",
   "execution_count": null,
   "metadata": {},
   "outputs": [],
   "source": []
  }
 ],
 "metadata": {
  "kernelspec": {
   "display_name": "env",
   "language": "python",
   "name": "python3"
  },
  "language_info": {
   "codemirror_mode": {
    "name": "ipython",
    "version": 3
   },
   "file_extension": ".py",
   "mimetype": "text/x-python",
   "name": "python",
   "nbconvert_exporter": "python",
   "pygments_lexer": "ipython3",
   "version": "3.13.2"
  }
 },
 "nbformat": 4,
 "nbformat_minor": 2
}
